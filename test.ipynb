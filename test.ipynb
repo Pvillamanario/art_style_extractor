{
 "cells": [
  {
   "cell_type": "code",
   "execution_count": 14,
   "metadata": {},
   "outputs": [],
   "source": [
    "import torch\n",
    "from torch.utils.data import Dataset\n",
    "from torchvision import datasets\n",
    "from torchvision.transforms import ToTensor\n",
    "import matplotlib.pyplot as plt\n",
    "import os\n",
    "import pandas as pd\n",
    "from torchvision.io import read_image\n"
   ]
  },
  {
   "cell_type": "code",
   "execution_count": 15,
   "metadata": {},
   "outputs": [],
   "source": [
    "path_arkId_list = './data/arkId.p'\n",
    "path_images_thumbnails = './data/images_thumbnails/'\n",
    "path_annotations_json = './data/annotations_json/'\n",
    "path_annotations_pickle = './data/annotations_pickle/'"
   ]
  },
  {
   "cell_type": "code",
   "execution_count": 16,
   "metadata": {},
   "outputs": [],
   "source": [
    "class CustomImageDataset(Dataset):\n",
    "    def __init__(self, annotations_file, img_dir, transform=None, target_transform=None):\n",
    "        self.img_labels = pd.read_csv(annotations_file)\n",
    "        self.img_dir = img_dir\n",
    "        self.transform = transform\n",
    "        self.target_transform = target_transform\n",
    "\n",
    "    def __len__(self):\n",
    "        return len(self.img_labels)\n",
    "\n",
    "    def __getitem__(self, idx):\n",
    "        img_path = os.path.join(self.img_dir, self.img_labels.iloc[idx, 0])\n",
    "        image = read_image(img_path)\n",
    "        label = self.img_labels.iloc[idx, 1]\n",
    "        if self.transform:\n",
    "            image = self.transform(image)\n",
    "        if self.target_transform:\n",
    "            label = self.target_transform(label)\n",
    "        return image, label"
   ]
  },
  {
   "cell_type": "code",
   "execution_count": 18,
   "metadata": {},
   "outputs": [],
   "source": [
    "import pickle\n",
    "\n",
    "arkId = 'cl010052644'\n",
    "\n",
    "item = pickle.load(open(f'{path_annotations_pickle}{arkId}.p', 'rb'))"
   ]
  },
  {
   "cell_type": "code",
   "execution_count": 23,
   "metadata": {},
   "outputs": [
    {
     "data": {
      "text/plain": [
       "{'filename': './data/images_thumbnails/cl010052644.jpg',\n",
       " 'img_url': 'https://collections.louvre.fr/media/cache/small/0000000021/0000052644/0000850296_OG.JPG',\n",
       " 'startYear': 1600,\n",
       " 'endYear': 1700,\n",
       " 'collection': 'Département des Peintures',\n",
       " 'materialsAndTechniques': 'huile sur bois',\n",
       " 'tags': ['peinture',\n",
       "  'animal/plante/nature morte',\n",
       "  'portrait/personnage/nu',\n",
       "  'scène de genre/vie quotidienne/travail',\n",
       "  'animal (mammifère)',\n",
       "  'portrait de groupe',\n",
       "  'scène de genre',\n",
       "  'divertissement',\n",
       "  'jeu',\n",
       "  'objet/instrument/mobilier/accessoire'],\n",
       " 'title': 'Scène de famille',\n",
       " 'description': ''}"
      ]
     },
     "execution_count": 23,
     "metadata": {},
     "output_type": "execute_result"
    }
   ],
   "source": [
    "item[arkId]"
   ]
  },
  {
   "cell_type": "code",
   "execution_count": 36,
   "metadata": {},
   "outputs": [],
   "source": [
    "data = {}\n",
    "count = 0\n",
    "file_index = 0\n",
    "files_total = 0\n",
    "files_saved = 0\n",
    "num_subdirs = 0\n",
    "\n",
    "arkId = 'cl010052644'\n",
    "item = pickle.load(open(f'{path_annotations_pickle}{arkId}.p', 'rb'))\n",
    "data[arkId] = item[arkId]\n",
    "\n",
    "arkId = 'cl010114270'\n",
    "item = pickle.load(open(f'{path_annotations_pickle}{arkId}.p', 'rb'))\n",
    "data[arkId] = item[arkId]\n",
    "\n",
    "arkId = 'cl010067276'\n",
    "item = pickle.load(open(f'{path_annotations_pickle}{arkId}.p', 'rb'))\n",
    "data[arkId] = item[arkId]"
   ]
  },
  {
   "cell_type": "code",
   "execution_count": 46,
   "metadata": {},
   "outputs": [
    {
     "ename": "ValueError",
     "evalue": "need more than 7 values to unpack",
     "output_type": "error",
     "traceback": [
      "\u001b[1;31m---------------------------------------------------------------------------\u001b[0m",
      "\u001b[1;31mValueError\u001b[0m                                Traceback (most recent call last)",
      "\u001b[1;32mc:\\Users\\pvillamana\\Desktop\\art_style_extractor\\test.ipynb Cell 7'\u001b[0m in \u001b[0;36m<cell line: 1>\u001b[1;34m()\u001b[0m\n\u001b[1;32m----> <a href='vscode-notebook-cell:/c%3A/Users/pvillamana/Desktop/art_style_extractor/test.ipynb#ch0000016?line=0'>1</a>\u001b[0m pickle\u001b[39m.\u001b[39;49mload(\u001b[39mopen\u001b[39;49m(\u001b[39m'\u001b[39;49m\u001b[39m./data/0.out\u001b[39;49m\u001b[39m'\u001b[39;49m, \u001b[39m'\u001b[39;49m\u001b[39mrb\u001b[39;49m\u001b[39m'\u001b[39;49m))\n",
      "File \u001b[1;32mckdtree.pyx:1573\u001b[0m, in \u001b[0;36mscipy.spatial.ckdtree.cKDTree.__setstate__\u001b[1;34m()\u001b[0m\n",
      "\u001b[1;31mValueError\u001b[0m: need more than 7 values to unpack"
     ]
    }
   ],
   "source": [
    "pickle.load(open('./data/0.out', 'rb'))"
   ]
  },
  {
   "cell_type": "code",
   "execution_count": 40,
   "metadata": {},
   "outputs": [
    {
     "name": "stdout",
     "output_type": "stream",
     "text": [
      "1\n",
      "2\n",
      "3\n"
     ]
    }
   ],
   "source": [
    "import pprint\n",
    "for h in range(1, len(data.keys())+1):\n",
    "        print(h)\n",
    "        print(\"Key: {}\".format(data.keys[h]))\n",
    "        pprint.pprint(data[keys[h]])"
   ]
  },
  {
   "cell_type": "code",
   "execution_count": 44,
   "metadata": {},
   "outputs": [
    {
     "name": "stdout",
     "output_type": "stream",
     "text": [
      "['cl010052644', 'cl010114270', 'cl010067276']\n",
      "Key: cl010114270\n",
      "Key: cl010067276\n"
     ]
    },
    {
     "ename": "IndexError",
     "evalue": "list index out of range",
     "output_type": "error",
     "traceback": [
      "\u001b[1;31m---------------------------------------------------------------------------\u001b[0m",
      "\u001b[1;31mIndexError\u001b[0m                                Traceback (most recent call last)",
      "\u001b[1;32mc:\\Users\\pvillamana\\Desktop\\art_style_extractor\\test.ipynb Cell 8'\u001b[0m in \u001b[0;36m<cell line: 3>\u001b[1;34m()\u001b[0m\n\u001b[0;32m      <a href='vscode-notebook-cell:/c%3A/Users/pvillamana/Desktop/art_style_extractor/test.ipynb#ch0000014?line=1'>2</a>\u001b[0m \u001b[39mprint\u001b[39m(keys)\n\u001b[0;32m      <a href='vscode-notebook-cell:/c%3A/Users/pvillamana/Desktop/art_style_extractor/test.ipynb#ch0000014?line=2'>3</a>\u001b[0m \u001b[39mfor\u001b[39;00m k \u001b[39min\u001b[39;00m \u001b[39mrange\u001b[39m(\u001b[39m1\u001b[39m, \u001b[39mlen\u001b[39m(data\u001b[39m.\u001b[39mkeys())\u001b[39m+\u001b[39m\u001b[39m1\u001b[39m):\n\u001b[1;32m----> <a href='vscode-notebook-cell:/c%3A/Users/pvillamana/Desktop/art_style_extractor/test.ipynb#ch0000014?line=3'>4</a>\u001b[0m         \u001b[39mprint\u001b[39m(\u001b[39m\"\u001b[39m\u001b[39mKey: \u001b[39m\u001b[39m{}\u001b[39;00m\u001b[39m\"\u001b[39m\u001b[39m.\u001b[39mformat(keys[k]))\n",
      "\u001b[1;31mIndexError\u001b[0m: list index out of range"
     ]
    }
   ],
   "source": [
    "keys = list(data.keys())\n",
    "print(keys)\n",
    "for k in range(1, len(data.keys())+1):\n",
    "        print(\"Key: {}\".format(keys[k]))\n",
    "        #pprint.pprint(data[keys[k]])"
   ]
  },
  {
   "cell_type": "code",
   "execution_count": null,
   "metadata": {},
   "outputs": [],
   "source": [
    "data = {}\n",
    "index_id = 0\n",
    "count = 0\n",
    "file_index = 0\n",
    "files_total = 0\n",
    "files_saved = 0\n",
    "num_subdirs = 0\n",
    "\n",
    "index_id = arkId\n",
    "example['filename'] = str(index_id) + '.jpg'\n",
    "#get_image(example['image_url'], example['filename'], path_images)\n",
    "data[index_id] = example\n",
    "count += 1\n",
    "files_saved += 1\n",
    "num_from_subdir += 1\n",
    "if count == NUM_EXAMPLES_IN_PICKLE:\n",
    "        file_index += 1\n",
    "        pickle.dump(data, open(path_pickle + \"data_\" + str(file_index) + \".p\", \"wb\" ) )\n",
    "        print(\"Select examples to check against images. From pickle file index {}\".format(file_index))\n",
    "        keys = list(data.keys())\n",
    "        for k in range(10):\n",
    "                print(\"Key: {}\".format(keys[k]))\n",
    "                pprint.pprint(data[keys[k]])\n",
    "        count = 0\n",
    "        data = {}"
   ]
  }
 ],
 "metadata": {
  "interpreter": {
   "hash": "c84532701b596cbbc01b2a415f41af54b6b621a6c4c19998fc70922ae7840e48"
  },
  "kernelspec": {
   "display_name": "Python 3.9.12 ('mosaic_env')",
   "language": "python",
   "name": "python3"
  },
  "language_info": {
   "codemirror_mode": {
    "name": "ipython",
    "version": 3
   },
   "file_extension": ".py",
   "mimetype": "text/x-python",
   "name": "python",
   "nbconvert_exporter": "python",
   "pygments_lexer": "ipython3",
   "version": "3.9.12"
  },
  "orig_nbformat": 4
 },
 "nbformat": 4,
 "nbformat_minor": 2
}
