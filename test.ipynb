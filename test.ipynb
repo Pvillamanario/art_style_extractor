{
 "cells": [
  {
   "cell_type": "code",
   "execution_count": 1,
   "metadata": {},
   "outputs": [],
   "source": [
    "import torch\n",
    "from torch.utils.data import Dataset\n",
    "from torchvision import datasets\n",
    "from torchvision.transforms import ToTensor\n",
    "import matplotlib.pyplot as plt\n",
    "import os\n",
    "import pandas as pd\n",
    "from torchvision.io import read_image\n"
   ]
  },
  {
   "cell_type": "code",
   "execution_count": 2,
   "metadata": {},
   "outputs": [],
   "source": [
    "path_arkId_list = './data/arkId.p'\n",
    "path_images_thumbnails = './data/images_thumbnails/'\n",
    "path_annotations_json = './data/annotations_json/'\n",
    "path_annotations_pickle = './data/annotations_pickle/'"
   ]
  },
  {
   "cell_type": "code",
   "execution_count": 3,
   "metadata": {},
   "outputs": [],
   "source": [
    "class CustomImageDataset(Dataset):\n",
    "    def __init__(self, annotations_file, img_dir, transform=None, target_transform=None):\n",
    "        self.img_labels = pd.read_csv(annotations_file)\n",
    "        self.img_dir = img_dir\n",
    "        self.transform = transform\n",
    "        self.target_transform = target_transform\n",
    "\n",
    "    def __len__(self):\n",
    "        return len(self.img_labels)\n",
    "\n",
    "    def __getitem__(self, idx):\n",
    "        img_path = os.path.join(self.img_dir, self.img_labels.iloc[idx, 0])\n",
    "        image = read_image(img_path)\n",
    "        label = self.img_labels.iloc[idx, 1]\n",
    "        if self.transform:\n",
    "            image = self.transform(image)\n",
    "        if self.target_transform:\n",
    "            label = self.target_transform(label)\n",
    "        return image, label"
   ]
  },
  {
   "cell_type": "code",
   "execution_count": 4,
   "metadata": {},
   "outputs": [],
   "source": [
    "import pickle\n",
    "\n",
    "arkId = 'cl010052644'\n",
    "\n",
    "item = pickle.load(open(f'{path_annotations_pickle}{arkId}.p', 'rb'))"
   ]
  },
  {
   "cell_type": "code",
   "execution_count": 9,
   "metadata": {},
   "outputs": [],
   "source": [
    "data = {}\n",
    "count = 0\n",
    "file_index = 0\n",
    "files_total = 0\n",
    "files_saved = 0\n",
    "num_subdirs = 0\n",
    "\n",
    "arkId = 'cl010052644'\n",
    "item = pickle.load(open(f'{path_annotations_pickle}{arkId}.p', 'rb'))\n",
    "data[arkId] = item[arkId]\n",
    "\n",
    "arkId = 'cl010114270'\n",
    "item = pickle.load(open(f'{path_annotations_pickle}{arkId}.p', 'rb'))\n",
    "data[arkId] = item[arkId]\n",
    "\n",
    "arkId = 'cl010067276'\n",
    "item = pickle.load(open(f'{path_annotations_pickle}{arkId}.p', 'rb'))\n",
    "data[arkId] = item[arkId]"
   ]
  },
  {
   "cell_type": "code",
   "execution_count": 11,
   "metadata": {},
   "outputs": [
    {
     "data": {
      "text/plain": [
       "{'filename': './data/images_thumbnails/cl010052644.jpg',\n",
       " 'img_url': 'https://collections.louvre.fr/media/cache/small/0000000021/0000052644/0000850296_OG.JPG',\n",
       " 'startYear': 1600,\n",
       " 'endYear': 1700,\n",
       " 'collection': 'Département des Peintures',\n",
       " 'materialsAndTechniques': 'huile sur bois',\n",
       " 'tags': ['peinture',\n",
       "  'animal/plante/nature morte',\n",
       "  'portrait/personnage/nu',\n",
       "  'scène de genre/vie quotidienne/travail',\n",
       "  'animal (mammifère)',\n",
       "  'portrait de groupe',\n",
       "  'scène de genre',\n",
       "  'divertissement',\n",
       "  'jeu',\n",
       "  'objet/instrument/mobilier/accessoire'],\n",
       " 'title': 'Scène de famille',\n",
       " 'description': ''}"
      ]
     },
     "execution_count": 11,
     "metadata": {},
     "output_type": "execute_result"
    }
   ],
   "source": [
    "data['cl010052644']"
   ]
  },
  {
   "cell_type": "code",
   "execution_count": null,
   "metadata": {},
   "outputs": [],
   "source": []
  }
 ],
 "metadata": {
  "interpreter": {
   "hash": "c84532701b596cbbc01b2a415f41af54b6b621a6c4c19998fc70922ae7840e48"
  },
  "kernelspec": {
   "display_name": "Python 3.9.12 ('mosaic_env')",
   "language": "python",
   "name": "python3"
  },
  "language_info": {
   "codemirror_mode": {
    "name": "ipython",
    "version": 3
   },
   "file_extension": ".py",
   "mimetype": "text/x-python",
   "name": "python",
   "nbconvert_exporter": "python",
   "pygments_lexer": "ipython3",
   "version": "3.9.12"
  },
  "orig_nbformat": 4
 },
 "nbformat": 4,
 "nbformat_minor": 2
}
