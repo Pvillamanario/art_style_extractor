{
 "cells": [
  {
   "cell_type": "code",
   "execution_count": 2,
   "metadata": {},
   "outputs": [],
   "source": [
    "import os\n",
    "import json\n",
    "import pickle\n",
    "from dicttoxml import dicttoxml"
   ]
  },
  {
   "cell_type": "code",
   "execution_count": 3,
   "metadata": {},
   "outputs": [],
   "source": [
    "path_arkId_list = './data/arkId.p'\n",
    "path_images_thumbnails = './data/images_thumbnails/'\n",
    "path_annotations_json = './data/annotations_json/'\n",
    "path_annotations_pickle = './data/annotations_pickle/'"
   ]
  },
  {
   "cell_type": "code",
   "execution_count": 4,
   "metadata": {},
   "outputs": [],
   "source": [
    "def metadata_to_pickle(ID):\n",
    "\n",
    "    if os.path.exists(path_annotations_pickle):\n",
    "        pass\n",
    "    else:\n",
    "        os.mkdir(path_annotations_pickle)\n",
    "\n",
    "    # Opening JSON file\n",
    "    f = open(f'{path_annotations_json}{ID}.json', 'r')\n",
    "\n",
    "    # returns JSON object as\n",
    "    # a dictionary\n",
    "    data = json.load(f)\n",
    "\n",
    "    # Closing file\n",
    "    f.close()\n",
    "\n",
    "    arkId = data['arkId']\n",
    "    title = data['title']\n",
    "    \n",
    "    try:\n",
    "        img_url = data['image'][0]['urlThumbnail']\n",
    "    except:\n",
    "        img_url = ''\n",
    "    \n",
    "    try:\n",
    "        startYear = data['dateCreated'][0]['startYear']\n",
    "    except:\n",
    "        startYear = ''\n",
    "    try:\n",
    "        endYear = data['dateCreated'][0]['endYear']\n",
    "    except:\n",
    "        endYear = ''\n",
    "\n",
    "    collection = data['collection']\n",
    "    materialsAndTechniques = data['materialsAndTechniques']\n",
    "    description = data['description']\n",
    "\n",
    "    tags = []\n",
    "    try:    \n",
    "        for tag in data['index'].keys():\n",
    "            for h in data['index'][tag]:\n",
    "                tags.append(h['value'])\n",
    "    except:\n",
    "        pass\n",
    "\n",
    "\n",
    "    data_pickle = {}\n",
    "    data_pickle[arkId] = {}\n",
    "    data_pickle[arkId]['filename'] = f'{path_images_thumbnails}{arkId}.jpg'\n",
    "    data_pickle[arkId]['img_url'] = img_url\n",
    "    data_pickle[arkId]['startYear'] = startYear\n",
    "    data_pickle[arkId]['endYear'] = endYear\n",
    "    data_pickle[arkId]['collection'] = collection\n",
    "    data_pickle[arkId]['materialsAndTechniques'] = materialsAndTechniques\n",
    "    data_pickle[arkId]['tags'] = tags\n",
    "    data_pickle[arkId]['title'] = title\n",
    "    data_pickle[arkId]['description'] = description\n",
    "\n",
    "\n",
    "    pickle.dump(data_pickle, open(path_annotations_pickle + arkId + \".p\", \"wb\"))"
   ]
  },
  {
   "cell_type": "code",
   "execution_count": 5,
   "metadata": {},
   "outputs": [],
   "source": [
    "arkId_list = pickle.load(open(path_arkId_list, \"rb\"))"
   ]
  },
  {
   "cell_type": "code",
   "execution_count": 147,
   "metadata": {},
   "outputs": [],
   "source": [
    "for id in arkId_list:\n",
    "    try: \n",
    "        #print(id)\n",
    "        metadata_to_pickle(id)\n",
    "    except:\n",
    "        print(f'Failed {id}')"
   ]
  },
  {
   "cell_type": "code",
   "execution_count": 150,
   "metadata": {},
   "outputs": [
    {
     "data": {
      "text/plain": [
       "'cl020587021'"
      ]
     },
     "execution_count": 150,
     "metadata": {},
     "output_type": "execute_result"
    }
   ],
   "source": [
    "arkId_list[0]"
   ]
  },
  {
   "cell_type": "code",
   "execution_count": 160,
   "metadata": {},
   "outputs": [
    {
     "data": {
      "text/plain": [
       "b'<?xml version=\"1.0\" encoding=\"UTF-8\" ?><root><cl020587021 type=\"dict\"><filename type=\"str\">./data/images_thumbnails/cl020587021.jpg</filename><img_url type=\"str\">https://collections.louvre.fr/media/cache/small/58/70/21/00/AGO587021-000_PE.jpg</img_url><startYear type=\"int\">1481</startYear><endYear type=\"str\"></endYear><collection type=\"str\">D\\xc3\\xa9partement des Arts graphiques</collection><materialsAndTechniques type=\"str\">enluminure</materialsAndTechniques><tags type=\"list\"><item type=\"str\">Rothschild, James Mayer de</item><item type=\"str\">Dante Alighieri</item><item type=\"str\">Virgile</item><item type=\"str\">Landino, Cristoforo+</item><item type=\"str\">Dante, La Divine Com\\xc3\\xa9die</item><item type=\"str\">Dante, l&apos;Enfer</item><item type=\"str\">enluminure</item></tags><title type=\"str\">Frontispice : Comento di Christophoro Landino Fiorentino no sopra la Comedia di Dante Alighieri poeta Fiorentino</title><description type=\"str\">Description de l&apos;album :Exemplaire de la Divine Com\\xc3\\xa9die \\xc3\\xa9dit\\xc3\\xa9 avec un commentaire de Cristoforo Landino. Florence, Nicolo de Lorenzo della Magna, 30 VIII 1481. 2\\xc2\\xb0, illustr\\xc3\\xa9. Il comprend 19 gravures illustrant l&apos;Enfer. Les deux premi\\xc3\\xa8res sont tir\\xc3\\xa9es, les suivantes coll\\xc3\\xa9es. La premi\\xc3\\xa8re gravure en pied de page est compl\\xc3\\xa8te; les gravures 3, 6 et 14 sont du 1er \\xc3\\xa9tat, les 7,9,13, 15, 16, 17, 18 et 19 du second \\xc3\\xa9tat. folios g3, p2, ll1, ll3, G1 non sign\\xc3\\xa9s; Ire partie (pi\\xc3\\xa8ces liminaires), folio  2recto sign\\xc3\\xa9 i, l.6, variante B : &quot;signori&quot; corrig\\xc3\\xa9 en &quot;signor&quot;; IIIe partie (Purgatorio), folio oo6 verso, l. 54-55, variante B : &quot;infinita&quot;, &quot;FINE&quot;; IVe partie (Paradiso), folio A1recto, variante B : folio sign\\xc3\\xa9 aaa1, texte en 49 ll., avant-derni\\xc3\\xa8re ligne &quot;finalmen//te&quot; = GW  (Gesamtkatalog der Wiegendrucke); IVe partie, folio D8 recto, l.36, variante B : &quot;DIDANTHE&quot; avec le 2e &quot;D&quot; correctement imprim\\xc3\\xa9. Initiale B vert, bleu, mauve, orange et jaune sur fond d&apos;or, antennes marginales \\xc3\\xa0 d\\xc3\\xa9cor floral et boules d&apos;or au folio 1 recto, ibid. armoiries peintes dans la couronne de feuillage, accompagn\\xc3\\xa9es de d\\xc3\\xa9cor floral et de boule d&apos;or au bas de la m\\xc3\\xaame page; initiale N en or, vert, mauve et bleu avec un portrait de Dante v\\xc3\\xaatu de rouge sur fond bleu, antennes marginales \\xc3\\xa0 d\\xc3\\xa9cor floral et boules d&apos;or, au folio a1 recto; initiale D au folio aa1 recto; initiale P au folio aa2 recto; initiale A au folio aaa2 recto. Armoiries peintes italiennes non identifi\\xc3\\xa9es au bas du folio 2 recto sign\\xc3\\xa9 &quot;.i.&quot;, XVe si\\xc3\\xa8cle. Reliure XVIIIe si\\xc3\\xa8cle en parchemin. Dos lisse, pi\\xc3\\xa8ce de titre de basane brune.\\nH : 00,435 m\\nL : 00,309 m\\nD : 00,130 m\\nLivre ouvert : 00,650 m</description></cl020587021></root>'"
      ]
     },
     "execution_count": 160,
     "metadata": {},
     "output_type": "execute_result"
    }
   ],
   "source": [
    "ID = 'cl020587021'\n",
    "data = pickle.load(open(f'{path_annotations_pickle}{ID}.p', 'rb'))\n",
    "xml = dicttoxml(data)\n",
    "xml"
   ]
  },
  {
   "cell_type": "code",
   "execution_count": 11,
   "metadata": {},
   "outputs": [],
   "source": [
    "ID = 'cl020587021'\n",
    "# Opening JSON file\n",
    "f = open(f'{path_annotations_json}{ID}.json', 'r')\n",
    "data = json.load(f)\n",
    "f.close()\n",
    "\n",
    "arkId = data['arkId']\n",
    "title = data['title']\n",
    "\n"
   ]
  },
  {
   "cell_type": "code",
   "execution_count": null,
   "metadata": {},
   "outputs": [],
   "source": [
    "all_data = []\n",
    "# open annotation file\n",
    "with open(annotation) as csv_file:\n",
    "    # parse it as CSV\n",
    "    reader = csv.DictReader(csv_file)\n",
    "    # tqdm shows pretty progress bar\n",
    "    # each row in the CSV file corresponds to the image\n",
    "    for row in tqdm(reader, total=reader.line_num):\n",
    "        # we need image ID to build the path to the image file\n",
    "        img_id = row['id']\n",
    "        # we're going to use only 3 attributes\n",
    "        gender = row['gender']\n",
    "        articleType = row['articleType']\n",
    "        baseColour = row['baseColour']\n",
    "        img_name = os.path.join(input_folder, 'images', str(img_id) + '.jpg')\n",
    "        # check if file is in place\n",
    "        if os.path.exists(img_name):\n",
    "            # check if the image has 80*60 pixels with 3 channels\n",
    "            img = Image.open(img_name)\n",
    "            if img.size == (60, 80) and img.mode == \"RGB\":\n",
    "                all_data.append([img_name, gender, articleType, baseColour])\n",
    "        else:\n",
    "            print(\"Something went wrong: there is no file \", img_name)"
   ]
  },
  {
   "cell_type": "code",
   "execution_count": null,
   "metadata": {},
   "outputs": [],
   "source": [
    "\n",
    "# Opening JSON file\n",
    "f = open(f'{path_annotations_json}{ID}.json', 'r')\n",
    "\n",
    "# returns JSON object as\n",
    "# a dictionary\n",
    "data = json.load(f)\n",
    "\n",
    "# Closing file\n",
    "f.close()\n",
    "\n",
    "arkId = data['arkId']\n",
    "title = data['title']\n",
    "\n",
    "try:\n",
    "    img_url = data['image'][0]['urlThumbnail']\n",
    "except:\n",
    "    img_url = ''\n",
    "\n",
    "try:\n",
    "    startYear = data['dateCreated'][0]['startYear']\n",
    "except:\n",
    "    startYear = ''\n",
    "try:\n",
    "    endYear = data['dateCreated'][0]['endYear']\n",
    "except:\n",
    "    endYear = ''\n",
    "\n",
    "collection = data['collection']\n",
    "materialsAndTechniques = data['materialsAndTechniques']\n",
    "description = data['description']\n",
    "\n",
    "tags = []\n",
    "try:    \n",
    "    for tag in data['index'].keys():\n",
    "        for h in data['index'][tag]:\n",
    "            tags.append(h['value'])\n",
    "except:\n",
    "    pass\n",
    "\n",
    "\n",
    "data_pickle = {}\n",
    "data_pickle[arkId] = {}\n",
    "data_pickle[arkId]['filename'] = f'{path_images_thumbnails}{arkId}.jpg'\n",
    "data_pickle[arkId]['img_url'] = img_url\n",
    "data_pickle[arkId]['startYear'] = startYear\n",
    "data_pickle[arkId]['endYear'] = endYear\n",
    "data_pickle[arkId]['collection'] = collection\n",
    "data_pickle[arkId]['materialsAndTechniques'] = materialsAndTechniques\n",
    "data_pickle[arkId]['tags'] = tags\n",
    "data_pickle[arkId]['title'] = title\n",
    "data_pickle[arkId]['description'] = description\n",
    "\n",
    "\n",
    "pickle.dump(data_pickle, open(path_annotations_pickle + arkId + \".p\", \"wb\"))"
   ]
  },
  {
   "cell_type": "code",
   "execution_count": 41,
   "metadata": {},
   "outputs": [],
   "source": [
    "# json to dataframe_csv\n",
    "\n",
    "def metadata_to_csv(ID):\n",
    "\n",
    "    # Opening JSON file\n",
    "    f = open(f'{path_annotations_json}{ID}.json', 'r')\n",
    "\n",
    "    # returns JSON object as\n",
    "    # a dictionary\n",
    "    data = json.load(f)\n",
    "\n",
    "    # Closing file\n",
    "    f.close()\n",
    "\n",
    "    arkId = data['arkId']\n",
    "    title = data['title']\n",
    "    \n",
    "    try:\n",
    "        img_url = data['image'][0]['urlThumbnail']\n",
    "    except:\n",
    "        img_url = ''\n",
    "    \n",
    "    try:\n",
    "        startYear = data['dateCreated'][0]['startYear']\n",
    "    except:\n",
    "        startYear = ''\n",
    "    try:\n",
    "        endYear = data['dateCreated'][0]['endYear']\n",
    "    except:\n",
    "        endYear = ''\n",
    "\n",
    "    collection = data['collection']\n",
    "    materialsAndTechniques = data['materialsAndTechniques']\n",
    "    description = data['description']\n",
    "\n",
    "    tags = []\n",
    "    try:    \n",
    "        for tag in data['index'].keys():\n",
    "            for h in data['index'][tag]:\n",
    "                tags.append(h['value'])\n",
    "    except:\n",
    "        pass\n",
    "\n",
    "\n",
    "    data = {}\n",
    "    data['arkId'] = arkId\n",
    "    data['filename'] = f'{path_images_thumbnails}{arkId}.jpg'\n",
    "    data['img_url'] = img_url\n",
    "    data['startYear'] = startYear\n",
    "    data['endYear'] = endYear\n",
    "    data['collection'] = collection\n",
    "    data['materialsAndTechniques'] = materialsAndTechniques\n",
    "    data['tags'] = str(tags).replace(\"'\", '').replace('[', '').replace(']', '')\n",
    "    data['title'] = title\n",
    "    data['description'] = description\n",
    "\n",
    "\n",
    "    return data"
   ]
  },
  {
   "cell_type": "code",
   "execution_count": 42,
   "metadata": {},
   "outputs": [
    {
     "data": {
      "text/plain": [
       "{'arkId': 'cl020587021',\n",
       " 'filename': './data/images_thumbnails/cl020587021.jpg',\n",
       " 'img_url': 'https://collections.louvre.fr/media/cache/small/58/70/21/00/AGO587021-000_PE.jpg',\n",
       " 'startYear': 1481,\n",
       " 'endYear': '',\n",
       " 'collection': 'Département des Arts graphiques',\n",
       " 'materialsAndTechniques': 'enluminure',\n",
       " 'tags': 'Rothschild, James Mayer de, Dante Alighieri, Virgile, Landino, Cristoforo+, Dante, La Divine Comédie, \"Dante, lEnfer\", enluminure',\n",
       " 'title': 'Frontispice : Comento di Christophoro Landino Fiorentino no sopra la Comedia di Dante Alighieri poeta Fiorentino',\n",
       " 'description': 'Description de l\\'album :Exemplaire de la Divine Comédie édité avec un commentaire de Cristoforo Landino. Florence, Nicolo de Lorenzo della Magna, 30 VIII 1481. 2°, illustré. Il comprend 19 gravures illustrant l\\'Enfer. Les deux premières sont tirées, les suivantes collées. La première gravure en pied de page est complète; les gravures 3, 6 et 14 sont du 1er état, les 7,9,13, 15, 16, 17, 18 et 19 du second état. folios g3, p2, ll1, ll3, G1 non signés; Ire partie (pièces liminaires), folio  2recto signé i, l.6, variante B : \"signori\" corrigé en \"signor\"; IIIe partie (Purgatorio), folio oo6 verso, l. 54-55, variante B : \"infinita\", \"FINE\"; IVe partie (Paradiso), folio A1recto, variante B : folio signé aaa1, texte en 49 ll., avant-dernière ligne \"finalmen//te\" = GW  (Gesamtkatalog der Wiegendrucke); IVe partie, folio D8 recto, l.36, variante B : \"DIDANTHE\" avec le 2e \"D\" correctement imprimé. Initiale B vert, bleu, mauve, orange et jaune sur fond d\\'or, antennes marginales à décor floral et boules d\\'or au folio 1 recto, ibid. armoiries peintes dans la couronne de feuillage, accompagnées de décor floral et de boule d\\'or au bas de la même page; initiale N en or, vert, mauve et bleu avec un portrait de Dante vêtu de rouge sur fond bleu, antennes marginales à décor floral et boules d\\'or, au folio a1 recto; initiale D au folio aa1 recto; initiale P au folio aa2 recto; initiale A au folio aaa2 recto. Armoiries peintes italiennes non identifiées au bas du folio 2 recto signé \".i.\", XVe siècle. Reliure XVIIIe siècle en parchemin. Dos lisse, pièce de titre de basane brune.\\nH : 00,435 m\\nL : 00,309 m\\nD : 00,130 m\\nLivre ouvert : 00,650 m'}"
      ]
     },
     "execution_count": 42,
     "metadata": {},
     "output_type": "execute_result"
    }
   ],
   "source": [
    "metadata_to_csv(ID)"
   ]
  },
  {
   "cell_type": "code",
   "execution_count": 43,
   "metadata": {},
   "outputs": [
    {
     "name": "stdout",
     "output_type": "stream",
     "text": [
      "Added cl020587021.\n",
      "Added cl020607701.\n",
      "Added cl010054237.\n",
      "Added cl010055357.\n",
      "Added cl010055456.\n",
      "Added cl010064404.\n",
      "Added cl010057509.\n",
      "Added cl010067276.\n",
      "Added cl010067427.\n",
      "Added cl010103045.\n",
      "Added cl010067597.\n",
      "Added cl010114270.\n",
      "Added cl010056500.\n",
      "Added cl010283891.\n",
      "Added cl010492021.\n",
      "Added cl010052951.\n",
      "Added cl010056356.\n",
      "Added cl010481343.\n",
      "Added cl010053266.\n",
      "Added cl010238363.\n",
      "Added cl010067011.\n",
      "Added cl010067417.\n",
      "Added cl010067590.\n",
      "Added cl010067164.\n",
      "Added cl010067318.\n",
      "Added cl010052644.\n",
      "Added cl010052654.\n",
      "Added cl010052655.\n",
      "Added cl010052658.\n",
      "Added cl010052661.\n",
      "Added cl010052665.\n",
      "Added cl010052666.\n",
      "Added cl010052673.\n",
      "Added cl010052674.\n",
      "Added cl010052948.\n",
      "Added cl010053017.\n",
      "Added cl010053388.\n",
      "Added cl010053418.\n",
      "Added cl010053783.\n",
      "Added cl010053832.\n"
     ]
    }
   ],
   "source": [
    "import pandas as pd\n",
    "column_names = [\"a\", \"b\", \"c\"]\n",
    "items_list = []\n",
    "# item_df = pd.DataFrame(columns = column_names)\n",
    "\n",
    "for id in arkId_list:\n",
    "    items_list.append(metadata_to_csv(id))\n",
    "    print(f'Added {id}.')"
   ]
  },
  {
   "cell_type": "code",
   "execution_count": 44,
   "metadata": {},
   "outputs": [
    {
     "data": {
      "text/plain": [
       "Index(['filename', 'img_url', 'startYear', 'endYear', 'collection',\n",
       "       'materialsAndTechniques', 'tags', 'title', 'description'],\n",
       "      dtype='object')"
      ]
     },
     "execution_count": 44,
     "metadata": {},
     "output_type": "execute_result"
    }
   ],
   "source": [
    "item_df = pd.DataFrame(items_list).set_index('arkId')\n",
    "item_df.columns"
   ]
  },
  {
   "cell_type": "code",
   "execution_count": 46,
   "metadata": {},
   "outputs": [
    {
     "name": "stdout",
     "output_type": "stream",
     "text": [
      "Rothschild, James Mayer de, Dante Alighieri, Virgile, Landino, Cristoforo+, Dante, La Divine Comédie, \"Dante, lEnfer\", enluminure\n",
      "\n",
      "peinture\n",
      "peinture\n",
      "peinture\n",
      "peinture, animal/plante/nature morte, nature morte\n",
      "peinture\n",
      "peinture\n",
      "peinture, portrait/personnage/nu, portrait de groupe\n",
      "art du livre\\xa0: miniature, enluminure, dessin, pastel, Asie, Asie méridionale, Inde, art du livre : miniature, enluminure, dessin, pastel\n",
      "peinture, littérature/fantastique, scène/thème littéraire\n",
      "\"art du livre\\xa0: dessin, page dalbum\", art du livre\\xa0: miniature, enluminure, Asie, Asie orientale = Extrême Orient, Chine, \"art du livre : dessin, page dalbum\", album, art du livre : miniature, enluminure\n",
      "peinture\n",
      "peinture, peinture murale, enduit, mortier, peinture, animal fantastique = être hybride = monstre, griffon, décor, décor architectural, zone, \"élément darchitecture\", balustrade, colonne, entablement, ouverture, paroi, piédestal, élément de décor, bande, filet, moulure, oves et dards, rinceau, objet, \"instrument déclairage\", candélabre, \"parties dobjet\", base, masque, panneau, personnage, personnage mythologique hybride, cheval ailé, Pégase, végétal, \"vocables daction\", encadré de, orné de, portant, posé, surmonté de, vocables de liaison, dans, entre, sur, vocables de localisation, à droite, à gauche, vocables de nombres, 2, vocables divers de A à K, bas, croisé, vocables divers de L à Z, torsadé, architecture/jardin, décor, décor figuré, époques, romain, romain impérial, styles, peinture murale, 4e style, Italie, Italie méridionale, Campanie, Herculanum, Italie, Italie méridionale, Campanie, Herculanum\n",
      "peinture\n",
      "peinture\n",
      "peinture, portrait/personnage/nu, personnage féminin\n",
      "peinture\n",
      "peinture\n",
      "peinture\n",
      "peinture\n",
      "peinture, architecture/jardin, portrait/personnage/nu, scène historique, architecture civile, personnage féminin, scène histoire ancienne\n",
      "peinture\n",
      "peinture, paysage, phénomène naturel, élément du cosmos, religion/mythologie/magie/zodiaque, paysage (divers), divinité païenne/antique\n",
      "peinture, portrait/personnage/nu, portrait de groupe, objet/instrument/mobilier/accessoire\n",
      "peinture, animal/plante/nature morte, portrait/personnage/nu, scène de genre/vie quotidienne/travail, animal (mammifère), portrait de groupe, scène de genre, divertissement, jeu, objet/instrument/mobilier/accessoire\n",
      "peinture\n",
      "peinture, religion/mythologie/magie/zodiaque, scène/culte/personnage chrétien\n",
      "peinture, animal/plante/nature morte, guerre/combat/chasse, animal (mammifère)\n",
      "peinture, portrait/personnage/nu, portrait, personnage masculin\n",
      "peinture, religion/mythologie/magie/zodiaque, divinité/Trinité chrétienne, scène/culte/personnage chrétien\n",
      "peinture, animal/plante/nature morte, architecture/jardin, paysage, phénomène naturel, élément du cosmos, religion/mythologie/magie/zodiaque, animal (mammifère), architecture palatiale/grande demeure, architecture urbaine (ville), paysage maritime, paysage de montagne, divinité/Trinité chrétienne, scène/culte/personnage chrétien, créature angélique\n",
      "peinture, paysage, phénomène naturel, élément du cosmos, portrait/personnage/nu, paysage (divers), cavalier\n",
      "peinture, animal/plante/nature morte, paysage, phénomène naturel, élément du cosmos, portrait/personnage/nu, animal (mammifère), paysage (divers), paysage maritime, cavalier\n",
      "peinture, animal/plante/nature morte, animal (mammifère)\n",
      "peinture\n",
      "peinture\n",
      "peinture, religion/mythologie/magie/zodiaque, divinité/Trinité chrétienne\n",
      "peinture\n",
      "peinture\n"
     ]
    }
   ],
   "source": [
    "tag_list = []\n",
    "\n",
    "for i in item_df['tags']:\n",
    "    print(i)\n",
    "\n",
    "item_df.to_csv('./data/labels.csv')"
   ]
  },
  {
   "cell_type": "code",
   "execution_count": null,
   "metadata": {},
   "outputs": [],
   "source": []
  }
 ],
 "metadata": {
  "interpreter": {
   "hash": "c84532701b596cbbc01b2a415f41af54b6b621a6c4c19998fc70922ae7840e48"
  },
  "kernelspec": {
   "display_name": "Python 3.9.12 ('mosaic_env')",
   "language": "python",
   "name": "python3"
  },
  "language_info": {
   "codemirror_mode": {
    "name": "ipython",
    "version": 3
   },
   "file_extension": ".py",
   "mimetype": "text/x-python",
   "name": "python",
   "nbconvert_exporter": "python",
   "pygments_lexer": "ipython3",
   "version": "3.9.12"
  },
  "orig_nbformat": 4
 },
 "nbformat": 4,
 "nbformat_minor": 2
}
