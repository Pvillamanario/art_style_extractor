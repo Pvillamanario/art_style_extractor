{
 "cells": [
  {
   "cell_type": "code",
   "execution_count": 159,
   "metadata": {},
   "outputs": [],
   "source": [
    "import os\n",
    "import json\n",
    "import pickle\n",
    "from dicttoxml import dicttoxml"
   ]
  },
  {
   "cell_type": "code",
   "execution_count": 144,
   "metadata": {},
   "outputs": [],
   "source": [
    "path_arkId_list = './data/arkId.p'\n",
    "path_images_thumbnails = './data/images_thumbnails/'\n",
    "path_annotations_json = './data/annotations_json/'\n",
    "path_annotations_pickle = './data/annotations_pickle/'"
   ]
  },
  {
   "cell_type": "code",
   "execution_count": 145,
   "metadata": {},
   "outputs": [],
   "source": [
    "def metadata_to_pickle(ID):\n",
    "\n",
    "    if os.path.exists(path_annotations_pickle):\n",
    "        pass\n",
    "    else:\n",
    "        os.mkdir(path_annotations_pickle)\n",
    "\n",
    "    # Opening JSON file\n",
    "    f = open(f'{path_annotations_json}{ID}.json', 'r')\n",
    "\n",
    "    # returns JSON object as\n",
    "    # a dictionary\n",
    "    data = json.load(f)\n",
    "\n",
    "    # Closing file\n",
    "    f.close()\n",
    "\n",
    "    arkId = data['arkId']\n",
    "    title = data['title']\n",
    "    \n",
    "    try:\n",
    "        img_url = data['image'][0]['urlThumbnail']\n",
    "    except:\n",
    "        img_url = ''\n",
    "    \n",
    "    try:\n",
    "        startYear = data['dateCreated'][0]['startYear']\n",
    "    except:\n",
    "        startYear = ''\n",
    "    try:\n",
    "        endYear = data['dateCreated'][0]['endYear']\n",
    "    except:\n",
    "        endYear = ''\n",
    "\n",
    "    collection = data['collection']\n",
    "    materialsAndTechniques = data['materialsAndTechniques']\n",
    "    description = data['description']\n",
    "\n",
    "    tags = []\n",
    "    try:    \n",
    "        for tag in data['index'].keys():\n",
    "            for h in data['index'][tag]:\n",
    "                tags.append(h['value'])\n",
    "    except:\n",
    "        pass\n",
    "\n",
    "\n",
    "    data_pickle = {}\n",
    "    data_pickle[arkId] = {}\n",
    "    data_pickle[arkId]['filename'] = f'{path_images_thumbnails}{arkId}.jpg'\n",
    "    data_pickle[arkId]['img_url'] = img_url\n",
    "    data_pickle[arkId]['startYear'] = startYear\n",
    "    data_pickle[arkId]['endYear'] = endYear\n",
    "    data_pickle[arkId]['collection'] = collection\n",
    "    data_pickle[arkId]['materialsAndTechniques'] = materialsAndTechniques\n",
    "    data_pickle[arkId]['tags'] = tags\n",
    "    data_pickle[arkId]['title'] = title\n",
    "    data_pickle[arkId]['description'] = description\n",
    "\n",
    "\n",
    "    pickle.dump(data_pickle, open(path_annotations_pickle + arkId + \".p\", \"wb\"))"
   ]
  },
  {
   "cell_type": "code",
   "execution_count": 146,
   "metadata": {},
   "outputs": [],
   "source": [
    "arkId_list = pickle.load(open(path_arkId_list, \"rb\"))"
   ]
  },
  {
   "cell_type": "code",
   "execution_count": 147,
   "metadata": {},
   "outputs": [],
   "source": [
    "for id in arkId_list:\n",
    "    try: \n",
    "        #print(id)\n",
    "        metadata_to_pickle(id)\n",
    "    except:\n",
    "        print(f'Failed {id}')"
   ]
  },
  {
   "cell_type": "code",
   "execution_count": 150,
   "metadata": {},
   "outputs": [
    {
     "data": {
      "text/plain": [
       "'cl020587021'"
      ]
     },
     "execution_count": 150,
     "metadata": {},
     "output_type": "execute_result"
    }
   ],
   "source": [
    "arkId_list[0]"
   ]
  },
  {
   "cell_type": "code",
   "execution_count": 160,
   "metadata": {},
   "outputs": [
    {
     "data": {
      "text/plain": [
       "b'<?xml version=\"1.0\" encoding=\"UTF-8\" ?><root><cl020587021 type=\"dict\"><filename type=\"str\">./data/images_thumbnails/cl020587021.jpg</filename><img_url type=\"str\">https://collections.louvre.fr/media/cache/small/58/70/21/00/AGO587021-000_PE.jpg</img_url><startYear type=\"int\">1481</startYear><endYear type=\"str\"></endYear><collection type=\"str\">D\\xc3\\xa9partement des Arts graphiques</collection><materialsAndTechniques type=\"str\">enluminure</materialsAndTechniques><tags type=\"list\"><item type=\"str\">Rothschild, James Mayer de</item><item type=\"str\">Dante Alighieri</item><item type=\"str\">Virgile</item><item type=\"str\">Landino, Cristoforo+</item><item type=\"str\">Dante, La Divine Com\\xc3\\xa9die</item><item type=\"str\">Dante, l&apos;Enfer</item><item type=\"str\">enluminure</item></tags><title type=\"str\">Frontispice : Comento di Christophoro Landino Fiorentino no sopra la Comedia di Dante Alighieri poeta Fiorentino</title><description type=\"str\">Description de l&apos;album :Exemplaire de la Divine Com\\xc3\\xa9die \\xc3\\xa9dit\\xc3\\xa9 avec un commentaire de Cristoforo Landino. Florence, Nicolo de Lorenzo della Magna, 30 VIII 1481. 2\\xc2\\xb0, illustr\\xc3\\xa9. Il comprend 19 gravures illustrant l&apos;Enfer. Les deux premi\\xc3\\xa8res sont tir\\xc3\\xa9es, les suivantes coll\\xc3\\xa9es. La premi\\xc3\\xa8re gravure en pied de page est compl\\xc3\\xa8te; les gravures 3, 6 et 14 sont du 1er \\xc3\\xa9tat, les 7,9,13, 15, 16, 17, 18 et 19 du second \\xc3\\xa9tat. folios g3, p2, ll1, ll3, G1 non sign\\xc3\\xa9s; Ire partie (pi\\xc3\\xa8ces liminaires), folio  2recto sign\\xc3\\xa9 i, l.6, variante B : &quot;signori&quot; corrig\\xc3\\xa9 en &quot;signor&quot;; IIIe partie (Purgatorio), folio oo6 verso, l. 54-55, variante B : &quot;infinita&quot;, &quot;FINE&quot;; IVe partie (Paradiso), folio A1recto, variante B : folio sign\\xc3\\xa9 aaa1, texte en 49 ll., avant-derni\\xc3\\xa8re ligne &quot;finalmen//te&quot; = GW  (Gesamtkatalog der Wiegendrucke); IVe partie, folio D8 recto, l.36, variante B : &quot;DIDANTHE&quot; avec le 2e &quot;D&quot; correctement imprim\\xc3\\xa9. Initiale B vert, bleu, mauve, orange et jaune sur fond d&apos;or, antennes marginales \\xc3\\xa0 d\\xc3\\xa9cor floral et boules d&apos;or au folio 1 recto, ibid. armoiries peintes dans la couronne de feuillage, accompagn\\xc3\\xa9es de d\\xc3\\xa9cor floral et de boule d&apos;or au bas de la m\\xc3\\xaame page; initiale N en or, vert, mauve et bleu avec un portrait de Dante v\\xc3\\xaatu de rouge sur fond bleu, antennes marginales \\xc3\\xa0 d\\xc3\\xa9cor floral et boules d&apos;or, au folio a1 recto; initiale D au folio aa1 recto; initiale P au folio aa2 recto; initiale A au folio aaa2 recto. Armoiries peintes italiennes non identifi\\xc3\\xa9es au bas du folio 2 recto sign\\xc3\\xa9 &quot;.i.&quot;, XVe si\\xc3\\xa8cle. Reliure XVIIIe si\\xc3\\xa8cle en parchemin. Dos lisse, pi\\xc3\\xa8ce de titre de basane brune.\\nH : 00,435 m\\nL : 00,309 m\\nD : 00,130 m\\nLivre ouvert : 00,650 m</description></cl020587021></root>'"
      ]
     },
     "execution_count": 160,
     "metadata": {},
     "output_type": "execute_result"
    }
   ],
   "source": [
    "ID = 'cl020587021'\n",
    "data = pickle.load(open(f'{path_annotations_pickle}{ID}.p', 'rb'))\n",
    "xml = dicttoxml(data)\n",
    "xml"
   ]
  },
  {
   "cell_type": "code",
   "execution_count": null,
   "metadata": {},
   "outputs": [],
   "source": []
  }
 ],
 "metadata": {
  "interpreter": {
   "hash": "c84532701b596cbbc01b2a415f41af54b6b621a6c4c19998fc70922ae7840e48"
  },
  "kernelspec": {
   "display_name": "Python 3.9.12 ('mosaic_env')",
   "language": "python",
   "name": "python3"
  },
  "language_info": {
   "codemirror_mode": {
    "name": "ipython",
    "version": 3
   },
   "file_extension": ".py",
   "mimetype": "text/x-python",
   "name": "python",
   "nbconvert_exporter": "python",
   "pygments_lexer": "ipython3",
   "version": "3.9.12"
  },
  "orig_nbformat": 4
 },
 "nbformat": 4,
 "nbformat_minor": 2
}
