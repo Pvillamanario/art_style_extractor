{
 "cells": [
  {
   "cell_type": "code",
   "execution_count": 1,
   "metadata": {},
   "outputs": [],
   "source": [
    "import torch\n",
    "from torch.utils.data import Dataset\n",
    "from torchvision import datasets\n",
    "from torchvision.transforms import ToTensor\n",
    "import matplotlib.pyplot as plt\n",
    "import os\n",
    "import pandas as pd\n",
    "from torchvision.io import read_image\n"
   ]
  },
  {
   "cell_type": "code",
   "execution_count": 2,
   "metadata": {},
   "outputs": [],
   "source": [
    "path_arkId_list = './data/arkId.p'\n",
    "path_images_thumbnails = './data/images_thumbnails/'\n",
    "path_annotations_json = './data/annotations_json/'\n",
    "path_annotations_pickle = './data/annotations_pickle/'"
   ]
  },
  {
   "cell_type": "code",
   "execution_count": 6,
   "metadata": {},
   "outputs": [
    {
     "name": "stdout",
     "output_type": "stream",
     "text": [
      "{'arkId': 'cl020587021', 'filename': './data/images_thumbnails/cl020587021.jpg', 'img_url': 'https://collections.louvre.fr/media/cache/small/58/70/21/00/AGO587021-000_PE.jpg', 'startYear': '1481', 'endYear': '', 'collection': 'Département des Arts graphiques', 'materialsAndTechniques': 'enluminure', 'tags': 'Rothschild, James Mayer de, Dante Alighieri, Virgile, Landino, Cristoforo+, Dante, La Divine Comédie, \"Dante, lEnfer\", enluminure', 'title': 'Frontispice : Comento di Christophoro Landino Fiorentino no sopra la Comedia di Dante Alighieri poeta Fiorentino', 'description': 'Description de l\\'album :Exemplaire de la Divine Comédie édité avec un commentaire de Cristoforo Landino. Florence, Nicolo de Lorenzo della Magna, 30 VIII 1481. 2°, illustré. Il comprend 19 gravures illustrant l\\'Enfer. Les deux premières sont tirées, les suivantes collées. La première gravure en pied de page est complète; les gravures 3, 6 et 14 sont du 1er état, les 7,9,13, 15, 16, 17, 18 et 19 du second état. folios g3, p2, ll1, ll3, G1 non signés; Ire partie (pièces liminaires), folio  2recto signé i, l.6, variante B : \"signori\" corrigé en \"signor\"; IIIe partie (Purgatorio), folio oo6 verso, l. 54-55, variante B : \"infinita\", \"FINE\"; IVe partie (Paradiso), folio A1recto, variante B : folio signé aaa1, texte en 49 ll., avant-dernière ligne \"finalmen//te\" = GW  (Gesamtkatalog der Wiegendrucke); IVe partie, folio D8 recto, l.36, variante B : \"DIDANTHE\" avec le 2e \"D\" correctement imprimé. Initiale B vert, bleu, mauve, orange et jaune sur fond d\\'or, antennes marginales à décor floral et boules d\\'or au folio 1 recto, ibid. armoiries peintes dans la couronne de feuillage, accompagnées de décor floral et de boule d\\'or au bas de la même page; initiale N en or, vert, mauve et bleu avec un portrait de Dante vêtu de rouge sur fond bleu, antennes marginales à décor floral et boules d\\'or, au folio a1 recto; initiale D au folio aa1 recto; initiale P au folio aa2 recto; initiale A au folio aaa2 recto. Armoiries peintes italiennes non identifiées au bas du folio 2 recto signé \".i.\", XVe siècle. Reliure XVIIIe siècle en parchemin. Dos lisse, pièce de titre de basane brune.\\nH : 00,435 m\\nL : 00,309 m\\nD : 00,130 m\\nLivre ouvert : 00,650 m'}\n",
      "{'arkId': 'cl020607701', 'filename': './data/images_thumbnails/cl020607701.jpg', 'img_url': '', 'startYear': '1517', 'endYear': '', 'collection': 'Département des Arts graphiques', 'materialsAndTechniques': '', 'tags': '', 'title': '', 'description': 'Description de l\\'album :Recueil contenant le \"Missale secundum chorum et ritum Eystetensis ecclesiae\" (Eichstädt), édité par Hieronymus Höltzel, en 1517 à Nuremberg.\\nH : 00,395 m\\nL : 00,277 m\\nD : 00,060 m\\nLivre ouvert : 00,598 m'}\n",
      "{'arkId': 'cl010054237', 'filename': './data/images_thumbnails/cl010054237.jpg', 'img_url': 'https://collections.louvre.fr/media/cache/small/0000000021/0000054237/0001062463_OG.JPG', 'startYear': '1600', 'endYear': '1700', 'collection': 'Département des Peintures', 'materialsAndTechniques': 'toile', 'tags': 'peinture', 'title': 'Animaux dans un paysage', 'description': ''}\n",
      "{'arkId': 'cl010055357', 'filename': './data/images_thumbnails/cl010055357.jpg', 'img_url': 'https://collections.louvre.fr/media/cache/small/0000000021/0000055357/0001015086_OG.JPG', 'startYear': '1700', 'endYear': '1800', 'collection': 'Département des Peintures', 'materialsAndTechniques': 'toile', 'tags': 'peinture', 'title': 'Paysage', 'description': ''}\n",
      "{'arkId': 'cl010055456', 'filename': './data/images_thumbnails/cl010055456.jpg', 'img_url': 'https://collections.louvre.fr/media/cache/small/0000000021/0000055456/0000043372_OG.JPG', 'startYear': '1700', 'endYear': '1800', 'collection': 'Département des Peintures', 'materialsAndTechniques': 'toile', 'tags': 'peinture', 'title': \"Instruments d'astronomie, livres, fleurs et fruits\", 'description': ''}\n",
      "{'arkId': 'cl010064404', 'filename': './data/images_thumbnails/cl010064404.jpg', 'img_url': 'https://collections.louvre.fr/media/cache/small/0000000021/0000064404/0000134762_OG.JPG', 'startYear': '1647', 'endYear': '', 'collection': 'Département des Peintures', 'materialsAndTechniques': 'huile sur bois', 'tags': 'peinture, animal/plante/nature morte, nature morte', 'title': 'Nature morte au citron pelé', 'description': 'À dater des années 1650 (voir un tableau fort voisin, S.D. 1652, au musée de Prague).'}\n",
      "{'arkId': 'cl010057509', 'filename': './data/images_thumbnails/cl010057509.jpg', 'img_url': 'https://collections.louvre.fr/media/cache/small/0000000021/0000057509/0000329754_OG.JPG', 'startYear': '1725', 'endYear': '', 'collection': 'Département des Peintures', 'materialsAndTechniques': 'toile', 'tags': 'peinture', 'title': 'Trophée de chasse à la tête de cerf', 'description': \"Une tête de cerf, deux couteaux et une trompe de chasse sont suspendus à une branche d'arbre. Au pied de celui-ci se trouvent deux chiens dont l'un fixe la tête du cerf.\"}\n",
      "{'arkId': 'cl010067276', 'filename': './data/images_thumbnails/cl010067276.jpg', 'img_url': 'https://collections.louvre.fr/media/cache/small/0000000021/0000067276/0001015407_OG.JPG', 'startYear': '1700', 'endYear': '1800', 'collection': 'Département des Peintures', 'materialsAndTechniques': 'huile sur toile', 'tags': 'peinture', 'title': 'Portrait de Louis XV', 'description': ''}\n",
      "{'arkId': 'cl010067427', 'filename': './data/images_thumbnails/cl010067427.jpg', 'img_url': 'https://collections.louvre.fr/media/cache/small/0000000021/0000067427/0000134875_OG.JPG', 'startYear': '1797', 'endYear': '', 'collection': 'Département des Peintures', 'materialsAndTechniques': 'huile sur toile', 'tags': 'peinture, portrait/personnage/nu, portrait de groupe', 'title': 'Portait de la famille de La Roche Saint-André dans un paysage', 'description': ''}\n",
      "{'arkId': 'cl010103045', 'filename': './data/images_thumbnails/cl010103045.jpg', 'img_url': 'https://collections.louvre.fr/media/cache/small/0000000021/0000103045/0000170974_OG.JPG', 'startYear': '1680', 'endYear': '', 'collection': \"Département des Objets d'art du Moyen Age, de la Renaissance et des temps modernes\", 'materialsAndTechniques': 'Technique : techniques dessin', 'tags': 'art du livre\\\\xa0: miniature, enluminure, dessin, pastel, Asie, Asie méridionale, Inde, art du livre : miniature, enluminure, dessin, pastel', 'title': '20 portraits répartis en 5 cadres (TH 277 1 à TH 277 5)', 'description': \"Suite de vingt portraits à mi-corps, répartis en 5 cadres réalisés à Golconde pour l'exportation en Europe\"}\n",
      "{'arkId': 'cl010067597', 'filename': './data/images_thumbnails/cl010067597.jpg', 'img_url': 'https://collections.louvre.fr/media/cache/small/0000000021/0000067597/0000330300_OG.JPG', 'startYear': '1700', 'endYear': '1743', 'collection': 'Département des Peintures', 'materialsAndTechniques': 'huile sur toile', 'tags': 'peinture, littérature/fantastique, scène/thème littéraire', 'title': 'Le Poirier enchanté (conte de La Fontaine)', 'description': ''}\n",
      "{'arkId': 'cl010114270', 'filename': './data/images_thumbnails/cl010114270.jpg', 'img_url': 'https://collections.louvre.fr/media/cache/small/0000000021/0000114270/0000395930_OG.JPG', 'startYear': '', 'endYear': '', 'collection': \"Département des Objets d'art du Moyen Age, de la Renaissance et des temps modernes\", 'materialsAndTechniques': '', 'tags': '\"art du livre\\\\xa0: dessin, page dalbum\", art du livre\\\\xa0: miniature, enluminure, Asie, Asie orientale = Extrême Orient, Chine, \"art du livre : dessin, page dalbum\", album, art du livre : miniature, enluminure', 'title': 'album', 'description': \"Album de peintures chinoises: dix paysages, à reliure d'étoffe. Album contenant douze dessins en couleurs représentant des personnages dans des architectures et des jardins.\"}\n",
      "{'arkId': 'cl010056500', 'filename': './data/images_thumbnails/cl010056500.jpg', 'img_url': 'https://collections.louvre.fr/media/cache/small/0000000021/0000056500/0000338825_OG.JPG', 'startYear': '1735', 'endYear': '', 'collection': 'Département des Peintures', 'materialsAndTechniques': 'toile', 'tags': 'peinture', 'title': 'Don Quichotte et les oiseaux de la caverne de Montesinos', 'description': ''}\n",
      "{'arkId': 'cl010283891', 'filename': './data/images_thumbnails/cl010283891.jpg', 'img_url': 'https://collections.louvre.fr/media/cache/small/0000000021/0000283891/0000631598_OG.JPG', 'startYear': '45', 'endYear': '79', 'collection': 'Département des Antiquités grecques, étrusques et romaines', 'materialsAndTechniques': 'Matériau : mortier\\nTechnique : peinture (à fresque sur un mortier antique. Montage constitué d’un lit de plâtre posé sur une ardoise, montée sur un support en plaque d’aluminium alvéolé. maintenu par un mortier périphérique)\\nPrécision technique : plinthe brunâtre-colonne piédestal brun rouge et jaune-panneaux noirs-Baseverdatre-Feuillage vert-rinceaux et candélabre brun rouge-pégase griffon et masques jaunâtres', 'tags': 'peinture, peinture murale, enduit, mortier, peinture, animal fantastique = être hybride = monstre, griffon, décor, décor architectural, zone, \"élément darchitecture\", balustrade, colonne, entablement, ouverture, paroi, piédestal, élément de décor, bande, filet, moulure, oves et dards, rinceau, objet, \"instrument déclairage\", candélabre, \"parties dobjet\", base, masque, panneau, personnage, personnage mythologique hybride, cheval ailé, Pégase, végétal, \"vocables daction\", encadré de, orné de, portant, posé, surmonté de, vocables de liaison, dans, entre, sur, vocables de localisation, à droite, à gauche, vocables de nombres, 2, vocables divers de A à K, bas, croisé, vocables divers de L à Z, torsadé, architecture/jardin, décor, décor figuré, époques, romain, romain impérial, styles, peinture murale, 4e style, Italie, Italie méridionale, Campanie, Herculanum, Italie, Italie méridionale, Campanie, Herculanum', 'title': 'peinture murale', 'description': \"Décor : décor architectural (piédestal, entre, paroi, 2) ; colonne (torsadé, base, végétal, posé, sur, piédestal, entre) ; à gauche ; paroi (ouverture, dans, zone, bas, surmonté de, moulure, oves et dards, surmonté de, panneau, encadré de, bande, entre, filet, orné de, Pégase, portant, entablement, surmonté de, candélabre, rinceau, croisé, griffon, masque) ; à droite ; paroi (orné de, balustrade, surmonté de, élément d'architecture)\\n\\nEtat de l'oeuvre : entier-moins sommet de la paroi et suite des panneaux\\nRestauration : complété(bord)\"}\n",
      "{'arkId': 'cl010492021', 'filename': './data/images_thumbnails/cl010492021.jpg', 'img_url': 'https://collections.louvre.fr/media/cache/small/0000000021/0000492021/0001113484_OG.JPG', 'startYear': '1858', 'endYear': '1859', 'collection': 'Département des Peintures', 'materialsAndTechniques': '( (huile sur toile insérée dans un panneau de bois))', 'tags': 'peinture', 'title': 'Les Triomphes impériaux : esquisse', 'description': 'Esquisse pour un des dessus de porte de la salle des Etats au Louvre'}\n",
      "{'arkId': 'cl010052951', 'filename': './data/images_thumbnails/cl010052951.jpg', 'img_url': 'https://collections.louvre.fr/media/cache/small/0000000021/0000052951/0000041517_OG.JPG', 'startYear': '1700', 'endYear': '1701', 'collection': 'Département des Peintures', 'materialsAndTechniques': 'toile', 'tags': 'peinture', 'title': 'Chien poursuivant un loup', 'description': ''}\n",
      "{'arkId': 'cl010056356', 'filename': './data/images_thumbnails/cl010056356.jpg', 'img_url': 'https://collections.louvre.fr/media/cache/small/0000000021/0000056356/0000843153_OG.JPG', 'startYear': '1800', 'endYear': '1850', 'collection': 'Département des Peintures', 'materialsAndTechniques': 'toile', 'tags': 'peinture, portrait/personnage/nu, personnage féminin', 'title': 'Étude de tête de femme', 'description': ''}\n",
      "{'arkId': 'cl010481343', 'filename': './data/images_thumbnails/cl010481343.jpg', 'img_url': 'https://collections.louvre.fr/media/cache/small/0000000021/0000481343/0001071160_OG.JPG', 'startYear': '1760', 'endYear': '1765', 'collection': 'Département des Peintures', 'materialsAndTechniques': 'huile sur toile', 'tags': 'peinture', 'title': 'La Bascule', 'description': ''}\n",
      "{'arkId': 'cl010053266', 'filename': './data/images_thumbnails/cl010053266.jpg', 'img_url': 'https://collections.louvre.fr/media/cache/small/0000000021/0000053266/0001054295_OG.JPG', 'startYear': '1700', 'endYear': '1800', 'collection': 'Département des Peintures', 'materialsAndTechniques': 'toile', 'tags': 'peinture', 'title': 'Le Rétablissement du culte', 'description': ''}\n",
      "{'arkId': 'cl010238363', 'filename': './data/images_thumbnails/cl010238363.jpg', 'img_url': 'https://collections.louvre.fr/media/cache/small/0000000021/0000238363/0000921287_OG.JPG', 'startYear': '1796', 'endYear': '', 'collection': 'Département des Peintures', 'materialsAndTechniques': 'toile', 'tags': 'peinture', 'title': \"Le général Bonaparte au pont d'Arcole, 17 novembre 1796.\", 'description': ''}\n",
      "{'arkId': 'cl010067011', 'filename': './data/images_thumbnails/cl010067011.jpg', 'img_url': 'https://collections.louvre.fr/media/cache/small/0000000021/0000067011/0000167788_OG.JPG', 'startYear': '', 'endYear': '', 'collection': 'Département des Peintures', 'materialsAndTechniques': 'huile sur toile', 'tags': 'peinture', 'title': 'La tentation de la vestale', 'description': ''}\n",
      "{'arkId': 'cl010067417', 'filename': './data/images_thumbnails/cl010067417.jpg', 'img_url': 'https://collections.louvre.fr/media/cache/small/0000000021/0000067417/0000134689_OG.JPG', 'startYear': '1770', 'endYear': '', 'collection': 'Département des Peintures', 'materialsAndTechniques': 'huile sur toile', 'tags': 'peinture, architecture/jardin, portrait/personnage/nu, scène historique, architecture civile, personnage féminin, scène histoire ancienne', 'title': 'La Charité romaine : Cimone et son père.', 'description': ''}\n",
      "{'arkId': 'cl010067590', 'filename': './data/images_thumbnails/cl010067590.jpg', 'img_url': 'https://collections.louvre.fr/media/cache/small/0000000021/0000067590/0000135531_OG.JPG', 'startYear': '1800', 'endYear': '1900', 'collection': 'Département des Peintures', 'materialsAndTechniques': 'huile sur toile', 'tags': 'peinture', 'title': 'Danse des bergers de Sorrente', 'description': ''}\n",
      "{'arkId': 'cl010067164', 'filename': './data/images_thumbnails/cl010067164.jpg', 'img_url': 'https://collections.louvre.fr/media/cache/small/0000000021/0000067164/0000715751_OG.JPG', 'startYear': '1800', 'endYear': '1825', 'collection': 'Département des Peintures', 'materialsAndTechniques': 'huile sur toile', 'tags': 'peinture, paysage, phénomène naturel, élément du cosmos, religion/mythologie/magie/zodiaque, paysage (divers), divinité païenne/antique', 'title': 'Ruines du temple de Saturne sur le forum romain', 'description': ''}\n",
      "{'arkId': 'cl010067318', 'filename': './data/images_thumbnails/cl010067318.jpg', 'img_url': 'https://collections.louvre.fr/media/cache/small/0000000021/0000067318/0000969746_OG.JPG', 'startYear': '1780', 'endYear': '', 'collection': 'Département des Peintures', 'materialsAndTechniques': 'huile sur toile', 'tags': 'peinture, portrait/personnage/nu, portrait de groupe, objet/instrument/mobilier/accessoire', 'title': 'Portrait de Quatremère et de sa famille', 'description': ''}\n",
      "{'arkId': 'cl010052644', 'filename': './data/images_thumbnails/cl010052644.jpg', 'img_url': 'https://collections.louvre.fr/media/cache/small/0000000021/0000052644/0000850296_OG.JPG', 'startYear': '1600', 'endYear': '1700', 'collection': 'Département des Peintures', 'materialsAndTechniques': 'huile sur bois', 'tags': 'peinture, animal/plante/nature morte, portrait/personnage/nu, scène de genre/vie quotidienne/travail, animal (mammifère), portrait de groupe, scène de genre, divertissement, jeu, objet/instrument/mobilier/accessoire', 'title': 'Scène de famille', 'description': ''}\n",
      "{'arkId': 'cl010052654', 'filename': './data/images_thumbnails/cl010052654.jpg', 'img_url': 'https://collections.louvre.fr/media/cache/small/0000000021/0000052654/0000968559_OG.JPG', 'startYear': '1600', 'endYear': '1700', 'collection': 'Département des Peintures', 'materialsAndTechniques': 'bois', 'tags': 'peinture', 'title': 'Portrait de femme,1631', 'description': ''}\n",
      "{'arkId': 'cl010052655', 'filename': './data/images_thumbnails/cl010052655.jpg', 'img_url': 'https://collections.louvre.fr/media/cache/small/0000000021/0000052655/0000885465_OG.JPG', 'startYear': '1600', 'endYear': '1700', 'collection': 'Département des Peintures', 'materialsAndTechniques': 'toile', 'tags': 'peinture, religion/mythologie/magie/zodiaque, scène/culte/personnage chrétien', 'title': 'La Vocation de saint Matthieu', 'description': ''}\n",
      "{'arkId': 'cl010052658', 'filename': './data/images_thumbnails/cl010052658.jpg', 'img_url': 'https://collections.louvre.fr/media/cache/small/0000000021/0000052658/0000885503_OG.JPG', 'startYear': '1600', 'endYear': '1700', 'collection': 'Département des Peintures', 'materialsAndTechniques': 'bois', 'tags': 'peinture, animal/plante/nature morte, guerre/combat/chasse, animal (mammifère)', 'title': 'La Chasse au sanglier', 'description': ''}\n",
      "{'arkId': 'cl010052661', 'filename': './data/images_thumbnails/cl010052661.jpg', 'img_url': 'https://collections.louvre.fr/media/cache/small/0000000021/0000052661/0000938185_OG.JPG', 'startYear': '1600', 'endYear': '1700', 'collection': 'Département des Peintures', 'materialsAndTechniques': 'toile', 'tags': 'peinture, portrait/personnage/nu, portrait, personnage masculin', 'title': \"Portrait d'un officier espagnol\", 'description': ''}\n",
      "{'arkId': 'cl010052665', 'filename': './data/images_thumbnails/cl010052665.jpg', 'img_url': 'https://collections.louvre.fr/media/cache/small/0000000021/0000052665/0000606353_OG.JPG', 'startYear': '1500', 'endYear': '1600', 'collection': 'Département des Peintures', 'materialsAndTechniques': 'huile sur bois (peuplier)', 'tags': 'peinture, religion/mythologie/magie/zodiaque, divinité/Trinité chrétienne, scène/culte/personnage chrétien', 'title': \"La Vierge, l'Enfant, saint Sébastien et sainte Ursule\", 'description': ''}\n",
      "{'arkId': 'cl010052666', 'filename': './data/images_thumbnails/cl010052666.jpg', 'img_url': 'https://collections.louvre.fr/media/cache/small/0000000021/0000052666/0000850214_OG.JPG', 'startYear': '1500', 'endYear': '1540', 'collection': 'Département des Peintures', 'materialsAndTechniques': 'bois', 'tags': 'peinture, animal/plante/nature morte, architecture/jardin, paysage, phénomène naturel, élément du cosmos, religion/mythologie/magie/zodiaque, animal (mammifère), architecture palatiale/grande demeure, architecture urbaine (ville), paysage maritime, paysage de montagne, divinité/Trinité chrétienne, scène/culte/personnage chrétien, créature angélique', 'title': 'Nativité et Adoration des bergers', 'description': ''}\n",
      "{'arkId': 'cl010052673', 'filename': './data/images_thumbnails/cl010052673.jpg', 'img_url': 'https://collections.louvre.fr/media/cache/small/0000000021/0000052673/0000924996_OG.JPG', 'startYear': '1400', 'endYear': '1500', 'collection': 'Département des Peintures', 'materialsAndTechniques': 'bois', 'tags': 'peinture, paysage, phénomène naturel, élément du cosmos, portrait/personnage/nu, paysage (divers), cavalier', 'title': 'Cavalier', 'description': 'Pendant du MNR 797'}\n",
      "{'arkId': 'cl010052674', 'filename': './data/images_thumbnails/cl010052674.jpg', 'img_url': 'https://collections.louvre.fr/media/cache/small/0000000021/0000052674/0000925006_OG.JPG', 'startYear': '1400', 'endYear': '1500', 'collection': 'Département des Peintures', 'materialsAndTechniques': 'bois', 'tags': 'peinture, animal/plante/nature morte, paysage, phénomène naturel, élément du cosmos, portrait/personnage/nu, animal (mammifère), paysage (divers), paysage maritime, cavalier', 'title': 'Enfant sur un cheval', 'description': 'Pendant du MNR 761'}\n",
      "{'arkId': 'cl010052948', 'filename': './data/images_thumbnails/cl010052948.jpg', 'img_url': 'https://collections.louvre.fr/media/cache/small/0000000021/0000052948/0000041519_OG.JPG', 'startYear': '1726', 'endYear': '', 'collection': 'Département des Peintures', 'materialsAndTechniques': 'toile', 'tags': 'peinture, animal/plante/nature morte, animal (mammifère)', 'title': 'Chiens, lévriers et lièvres', 'description': ''}\n",
      "{'arkId': 'cl010053017', 'filename': './data/images_thumbnails/cl010053017.jpg', 'img_url': 'https://collections.louvre.fr/media/cache/small/0000000021/0000053017/0000973286_OG.JPG', 'startYear': '1560', 'endYear': '1600', 'collection': 'Département des Peintures', 'materialsAndTechniques': 'bois', 'tags': 'peinture', 'title': \"Portrait d'Anne de Lattre, abbesse du couvent Notre-Dame-de-Beaulieu à Sin-le-Noble (près de Douai) de 1556 à 1607\", 'description': \"Sur ce tableau qui formait vraisemblablement le volet d'un triptyque, Anne de Lattre est représentée, agenouillée devant son Livre d'heures ouvert. Sous son écusson d'azur à deux chevrons d'or, on peut lire sa dévise : Penser i fault De Lattre. Fille de Jean de Lattre né à Douai en 1512, décédé vers 1582, Anne de Lattre fut abesse du couvent de Notre-Dame de Beaulieu à Sin-le-Noble de 1556 à 1607. Elle mourut entre 1608 et 1609.\"}\n",
      "{'arkId': 'cl010053388', 'filename': './data/images_thumbnails/cl010053388.jpg', 'img_url': 'https://collections.louvre.fr/media/cache/small/0000000021/0000053388/0000875152_OG.JPG', 'startYear': '1400', 'endYear': '1500', 'collection': 'Département des Peintures', 'materialsAndTechniques': \"fond d'or sur bois (doublé sur chêne ?)\", 'tags': 'peinture', 'title': \"La Vierge et l'Enfant avec six saints : Laurent, Barthélemy, Madeleine, Catherine (?), Lucie (?), Antoine abbé.\", 'description': ''}\n",
      "{'arkId': 'cl010053418', 'filename': './data/images_thumbnails/cl010053418.jpg', 'img_url': 'https://collections.louvre.fr/media/cache/small/0000000021/0000053418/0000747251_OG.JPG', 'startYear': '1300', 'endYear': '1400', 'collection': 'Département des Peintures', 'materialsAndTechniques': 'bois', 'tags': 'peinture, religion/mythologie/magie/zodiaque, divinité/Trinité chrétienne', 'title': 'Visitation (retable de la Trinité)', 'description': ''}\n",
      "{'arkId': 'cl010053783', 'filename': './data/images_thumbnails/cl010053783.jpg', 'img_url': 'https://collections.louvre.fr/media/cache/small/0000000021/0000053783/0000042908_OG.JPG', 'startYear': '1500', 'endYear': '1600', 'collection': 'Département des Peintures', 'materialsAndTechniques': 'toile', 'tags': 'peinture', 'title': 'Tête de Putto', 'description': 'Format : ovale'}\n",
      "{'arkId': 'cl010053832', 'filename': './data/images_thumbnails/cl010053832.jpg', 'img_url': 'https://collections.louvre.fr/media/cache/small/0000000021/0000053832/0000751310_OG.JPG', 'startYear': '1400', 'endYear': '1500', 'collection': 'Département des Peintures', 'materialsAndTechniques': \"fond d'or sur bois (peuplier)\", 'tags': 'peinture', 'title': 'Saint Barthélemy', 'description': ''}\n"
     ]
    }
   ],
   "source": [
    "import csv\n",
    "\n",
    "all_data = []\n",
    "# open annotation file\n",
    "with open('./data/labels.csv') as csv_file:\n",
    "    # parse it as CSV\n",
    "    reader = csv.DictReader(csv_file)\n",
    "    for row in reader:\n",
    "        # we need image ID to build the path to the image file\n",
    "        \n",
    "        print(row)"
   ]
  },
  {
   "cell_type": "code",
   "execution_count": 2,
   "metadata": {},
   "outputs": [
    {
     "data": {
      "text/plain": [
       "<csv.DictReader at 0x242cc9e26a0>"
      ]
     },
     "execution_count": 2,
     "metadata": {},
     "output_type": "execute_result"
    }
   ],
   "source": [
    "reader"
   ]
  },
  {
   "cell_type": "code",
   "execution_count": 3,
   "metadata": {},
   "outputs": [],
   "source": [
    "all_data = []\n",
    "# open annotation file\n",
    "with open(annotation) as csv_file:\n",
    "    # parse it as CSV\n",
    "    reader = csv.DictReader(csv_file)\n",
    "    # tqdm shows pretty progress bar\n",
    "    # each row in the CSV file corresponds to the image\n",
    "    for row in tqdm(reader, total=reader.line_num):\n",
    "        # we need image ID to build the path to the image file\n",
    "        img_id = row['id']\n",
    "        # we're going to use only 3 attributes\n",
    "        gender = row['gender']\n",
    "        articleType = row['articleType']\n",
    "        baseColour = row['baseColour']\n",
    "        img_name = os.path.join(input_folder, 'images', str(img_id) + '.jpg')\n",
    "        # check if file is in place\n",
    "        if os.path.exists(img_name):\n",
    "            # check if the image has 80*60 pixels with 3 channels\n",
    "            img = Image.open(img_name)\n",
    "            if img.size == (60, 80) and img.mode == \"RGB\":\n",
    "                all_data.append([img_name, gender, articleType, baseColour])\n",
    "        else:\n",
    "            print(\"Something went wrong: there is no file \", img_name)"
   ]
  },
  {
   "cell_type": "code",
   "execution_count": 4,
   "metadata": {},
   "outputs": [],
   "source": [
    "import pickle\n",
    "\n",
    "arkId = 'cl010052644'\n",
    "\n",
    "item = pickle.load(open(f'{path_annotations_pickle}{arkId}.p', 'rb'))"
   ]
  },
  {
   "cell_type": "code",
   "execution_count": 9,
   "metadata": {},
   "outputs": [],
   "source": [
    "data = {}\n",
    "count = 0\n",
    "file_index = 0\n",
    "files_total = 0\n",
    "files_saved = 0\n",
    "num_subdirs = 0\n",
    "\n",
    "arkId = 'cl010052644'\n",
    "item = pickle.load(open(f'{path_annotations_pickle}{arkId}.p', 'rb'))\n",
    "data[arkId] = item[arkId]\n",
    "\n",
    "arkId = 'cl010114270'\n",
    "item = pickle.load(open(f'{path_annotations_pickle}{arkId}.p', 'rb'))\n",
    "data[arkId] = item[arkId]\n",
    "\n",
    "arkId = 'cl010067276'\n",
    "item = pickle.load(open(f'{path_annotations_pickle}{arkId}.p', 'rb'))\n",
    "data[arkId] = item[arkId]"
   ]
  },
  {
   "cell_type": "code",
   "execution_count": 11,
   "metadata": {},
   "outputs": [
    {
     "data": {
      "text/plain": [
       "{'filename': './data/images_thumbnails/cl010052644.jpg',\n",
       " 'img_url': 'https://collections.louvre.fr/media/cache/small/0000000021/0000052644/0000850296_OG.JPG',\n",
       " 'startYear': 1600,\n",
       " 'endYear': 1700,\n",
       " 'collection': 'Département des Peintures',\n",
       " 'materialsAndTechniques': 'huile sur bois',\n",
       " 'tags': ['peinture',\n",
       "  'animal/plante/nature morte',\n",
       "  'portrait/personnage/nu',\n",
       "  'scène de genre/vie quotidienne/travail',\n",
       "  'animal (mammifère)',\n",
       "  'portrait de groupe',\n",
       "  'scène de genre',\n",
       "  'divertissement',\n",
       "  'jeu',\n",
       "  'objet/instrument/mobilier/accessoire'],\n",
       " 'title': 'Scène de famille',\n",
       " 'description': ''}"
      ]
     },
     "execution_count": 11,
     "metadata": {},
     "output_type": "execute_result"
    }
   ],
   "source": [
    "data['cl010052644']"
   ]
  },
  {
   "cell_type": "code",
   "execution_count": null,
   "metadata": {},
   "outputs": [],
   "source": []
  }
 ],
 "metadata": {
  "interpreter": {
   "hash": "c84532701b596cbbc01b2a415f41af54b6b621a6c4c19998fc70922ae7840e48"
  },
  "kernelspec": {
   "display_name": "Python 3.9.12 ('mosaic_env')",
   "language": "python",
   "name": "python3"
  },
  "language_info": {
   "codemirror_mode": {
    "name": "ipython",
    "version": 3
   },
   "file_extension": ".py",
   "mimetype": "text/x-python",
   "name": "python",
   "nbconvert_exporter": "python",
   "pygments_lexer": "ipython3",
   "version": "3.9.12"
  },
  "orig_nbformat": 4
 },
 "nbformat": 4,
 "nbformat_minor": 2
}
