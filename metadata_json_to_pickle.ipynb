{
 "cells": [
  {
   "cell_type": "code",
   "execution_count": 4,
   "metadata": {},
   "outputs": [],
   "source": [
    "import os\n",
    "import json\n",
    "import pickle"
   ]
  },
  {
   "cell_type": "code",
   "execution_count": 18,
   "metadata": {},
   "outputs": [],
   "source": [
    "path_arkId_list = './data/arkId.p'\n",
    "path_images_thumbnails = './data/images_thumbnails/'\n",
    "path_annotations_json = './data/annotations_json/'\n",
    "path_annotations_pickle = './data/annotations_pickle/'"
   ]
  },
  {
   "cell_type": "code",
   "execution_count": 19,
   "metadata": {},
   "outputs": [],
   "source": [
    "def metadata_to_pickle(ID):\n",
    "\n",
    "    if os.path.exists(path_annotations_pickle):\n",
    "        pass\n",
    "    else:\n",
    "        os.mkdir(path_annotations_pickle)\n",
    "\n",
    "    # Opening JSON file\n",
    "    f = open(f'{path_annotations_json}{ID}.json', 'r')\n",
    "\n",
    "    # returns JSON object as\n",
    "    # a dictionary\n",
    "    data = json.load(f)\n",
    "\n",
    "    # Closing file\n",
    "    f.close()\n",
    "\n",
    "    arkId = data['arkId']\n",
    "    title = data['title']\n",
    "    startYear = data['dateCreated'][0]['startYear']\n",
    "    endYear = data['dateCreated'][0]['endYear']\n",
    "    collection = data['collection']\n",
    "    materialsAndTechniques = data['materialsAndTechniques']\n",
    "    category = data['index']['Category'][0]['value']\n",
    "    tags = []\n",
    "\n",
    "    for i in data['index']['Imagery']:\n",
    "        tags.append(i['value'])\n",
    "\n",
    "\n",
    "    data_xml = {}\n",
    "    data_xml[arkId] = {}\n",
    "    data_xml[arkId]['filename'] = f'{path_images_thumbnails}{arkId}.jpg'\n",
    "    data_xml[arkId]['startYear'] = startYear\n",
    "    data_xml[arkId]['endYear'] = endYear\n",
    "    data_xml[arkId]['collection'] = collection\n",
    "    data_xml[arkId]['materialsAndTechniques'] = materialsAndTechniques\n",
    "    data_xml[arkId]['category'] = category\n",
    "    data_xml[arkId]['tags'] = tags\n",
    "    data_xml[arkId]['title'] = title\n",
    "\n",
    "    pickle.dump(data_xml, open(path_annotations_pickle + arkId + \".p\", \"wb\"))"
   ]
  },
  {
   "cell_type": "code",
   "execution_count": 20,
   "metadata": {},
   "outputs": [],
   "source": [
    "arkId_list = pickle.load(open(path_arkId_list, \"rb\"))"
   ]
  },
  {
   "cell_type": "code",
   "execution_count": 21,
   "metadata": {},
   "outputs": [
    {
     "data": {
      "text/plain": [
       "'cl010416624'"
      ]
     },
     "execution_count": 21,
     "metadata": {},
     "output_type": "execute_result"
    }
   ],
   "source": [
    "arkId_list[0]"
   ]
  },
  {
   "cell_type": "code",
   "execution_count": 22,
   "metadata": {},
   "outputs": [],
   "source": [
    "metadata_to_pickle('cl010416624')"
   ]
  },
  {
   "cell_type": "code",
   "execution_count": null,
   "metadata": {},
   "outputs": [],
   "source": [
    "for id in arkId_list:\n",
    "    metadata_to_pickle(id)"
   ]
  }
 ],
 "metadata": {
  "interpreter": {
   "hash": "c84532701b596cbbc01b2a415f41af54b6b621a6c4c19998fc70922ae7840e48"
  },
  "kernelspec": {
   "display_name": "Python 3.9.12 ('mosaic_env')",
   "language": "python",
   "name": "python3"
  },
  "language_info": {
   "codemirror_mode": {
    "name": "ipython",
    "version": 3
   },
   "file_extension": ".py",
   "mimetype": "text/x-python",
   "name": "python",
   "nbconvert_exporter": "python",
   "pygments_lexer": "ipython3",
   "version": "3.9.12"
  },
  "orig_nbformat": 4
 },
 "nbformat": 4,
 "nbformat_minor": 2
}
